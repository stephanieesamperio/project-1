{
 "cells": [
  {
   "cell_type": "code",
   "execution_count": null,
   "metadata": {},
   "outputs": [],
   "source": [
    "#mainprojectfile"
   ]
  },
  {
   "cell_type": "code",
   "execution_count": 260,
   "metadata": {},
   "outputs": [
    {
     "data": {
      "text/html": [
       "<div>\n",
       "<style scoped>\n",
       "    .dataframe tbody tr th:only-of-type {\n",
       "        vertical-align: middle;\n",
       "    }\n",
       "\n",
       "    .dataframe tbody tr th {\n",
       "        vertical-align: top;\n",
       "    }\n",
       "\n",
       "    .dataframe thead th {\n",
       "        text-align: right;\n",
       "    }\n",
       "</style>\n",
       "<table border=\"1\" class=\"dataframe\">\n",
       "  <thead>\n",
       "    <tr style=\"text-align: right;\">\n",
       "      <th></th>\n",
       "      <th>Customer ID</th>\n",
       "      <th>Age</th>\n",
       "      <th>Gender</th>\n",
       "      <th>Item Purchased</th>\n",
       "      <th>Category</th>\n",
       "      <th>Purchase Amount (USD)</th>\n",
       "      <th>Location</th>\n",
       "      <th>Size</th>\n",
       "      <th>Color</th>\n",
       "      <th>Season</th>\n",
       "      <th>Review Rating</th>\n",
       "      <th>Subscription Status</th>\n",
       "      <th>Shipping Type</th>\n",
       "      <th>Discount Applied</th>\n",
       "      <th>Promo Code Used</th>\n",
       "      <th>Previous Purchases</th>\n",
       "      <th>Payment Method</th>\n",
       "      <th>Frequency of Purchases</th>\n",
       "    </tr>\n",
       "  </thead>\n",
       "  <tbody>\n",
       "    <tr>\n",
       "      <th>0</th>\n",
       "      <td>1</td>\n",
       "      <td>55</td>\n",
       "      <td>Male</td>\n",
       "      <td>Blouse</td>\n",
       "      <td>Clothing</td>\n",
       "      <td>53</td>\n",
       "      <td>Kentucky</td>\n",
       "      <td>L</td>\n",
       "      <td>Gray</td>\n",
       "      <td>Winter</td>\n",
       "      <td>3.1</td>\n",
       "      <td>Yes</td>\n",
       "      <td>Express</td>\n",
       "      <td>Yes</td>\n",
       "      <td>Yes</td>\n",
       "      <td>14</td>\n",
       "      <td>Venmo</td>\n",
       "      <td>Fortnightly</td>\n",
       "    </tr>\n",
       "    <tr>\n",
       "      <th>1</th>\n",
       "      <td>2</td>\n",
       "      <td>19</td>\n",
       "      <td>Male</td>\n",
       "      <td>Sweater</td>\n",
       "      <td>Clothing</td>\n",
       "      <td>64</td>\n",
       "      <td>Maine</td>\n",
       "      <td>L</td>\n",
       "      <td>Maroon</td>\n",
       "      <td>Winter</td>\n",
       "      <td>3.1</td>\n",
       "      <td>Yes</td>\n",
       "      <td>Express</td>\n",
       "      <td>Yes</td>\n",
       "      <td>Yes</td>\n",
       "      <td>2</td>\n",
       "      <td>Cash</td>\n",
       "      <td>Fortnightly</td>\n",
       "    </tr>\n",
       "    <tr>\n",
       "      <th>2</th>\n",
       "      <td>3</td>\n",
       "      <td>50</td>\n",
       "      <td>Male</td>\n",
       "      <td>Jeans</td>\n",
       "      <td>Clothing</td>\n",
       "      <td>73</td>\n",
       "      <td>Massachusetts</td>\n",
       "      <td>S</td>\n",
       "      <td>Maroon</td>\n",
       "      <td>Spring</td>\n",
       "      <td>3.1</td>\n",
       "      <td>Yes</td>\n",
       "      <td>Free Shipping</td>\n",
       "      <td>Yes</td>\n",
       "      <td>Yes</td>\n",
       "      <td>23</td>\n",
       "      <td>Credit Card</td>\n",
       "      <td>Weekly</td>\n",
       "    </tr>\n",
       "    <tr>\n",
       "      <th>3</th>\n",
       "      <td>4</td>\n",
       "      <td>21</td>\n",
       "      <td>Male</td>\n",
       "      <td>Sandals</td>\n",
       "      <td>Footwear</td>\n",
       "      <td>90</td>\n",
       "      <td>Rhode Island</td>\n",
       "      <td>M</td>\n",
       "      <td>Maroon</td>\n",
       "      <td>Spring</td>\n",
       "      <td>3.5</td>\n",
       "      <td>Yes</td>\n",
       "      <td>Next Day Air</td>\n",
       "      <td>Yes</td>\n",
       "      <td>Yes</td>\n",
       "      <td>49</td>\n",
       "      <td>PayPal</td>\n",
       "      <td>Weekly</td>\n",
       "    </tr>\n",
       "    <tr>\n",
       "      <th>4</th>\n",
       "      <td>5</td>\n",
       "      <td>45</td>\n",
       "      <td>Male</td>\n",
       "      <td>Blouse</td>\n",
       "      <td>Clothing</td>\n",
       "      <td>49</td>\n",
       "      <td>Oregon</td>\n",
       "      <td>M</td>\n",
       "      <td>Turquoise</td>\n",
       "      <td>Spring</td>\n",
       "      <td>2.7</td>\n",
       "      <td>Yes</td>\n",
       "      <td>Free Shipping</td>\n",
       "      <td>Yes</td>\n",
       "      <td>Yes</td>\n",
       "      <td>31</td>\n",
       "      <td>PayPal</td>\n",
       "      <td>Annually</td>\n",
       "    </tr>\n",
       "  </tbody>\n",
       "</table>\n",
       "</div>"
      ],
      "text/plain": [
       "   Customer ID  Age Gender Item Purchased  Category  Purchase Amount (USD)  \\\n",
       "0            1   55   Male         Blouse  Clothing                     53   \n",
       "1            2   19   Male        Sweater  Clothing                     64   \n",
       "2            3   50   Male          Jeans  Clothing                     73   \n",
       "3            4   21   Male        Sandals  Footwear                     90   \n",
       "4            5   45   Male         Blouse  Clothing                     49   \n",
       "\n",
       "        Location Size      Color  Season  Review Rating Subscription Status  \\\n",
       "0       Kentucky    L       Gray  Winter            3.1                 Yes   \n",
       "1          Maine    L     Maroon  Winter            3.1                 Yes   \n",
       "2  Massachusetts    S     Maroon  Spring            3.1                 Yes   \n",
       "3   Rhode Island    M     Maroon  Spring            3.5                 Yes   \n",
       "4         Oregon    M  Turquoise  Spring            2.7                 Yes   \n",
       "\n",
       "   Shipping Type Discount Applied Promo Code Used  Previous Purchases  \\\n",
       "0        Express              Yes             Yes                  14   \n",
       "1        Express              Yes             Yes                   2   \n",
       "2  Free Shipping              Yes             Yes                  23   \n",
       "3   Next Day Air              Yes             Yes                  49   \n",
       "4  Free Shipping              Yes             Yes                  31   \n",
       "\n",
       "  Payment Method Frequency of Purchases  \n",
       "0          Venmo            Fortnightly  \n",
       "1           Cash            Fortnightly  \n",
       "2    Credit Card                 Weekly  \n",
       "3         PayPal                 Weekly  \n",
       "4         PayPal               Annually  "
      ]
     },
     "execution_count": 260,
     "metadata": {},
     "output_type": "execute_result"
    }
   ],
   "source": [
    "import matplotlib.pyplot as plt\n",
    "import pandas as pd\n",
    "import numpy as np\n",
    "import scipy as stats\n",
    "\n",
    "shopping_df = pd.read_csv(\"shopping_behavior_updated.csv\")\n",
    "\n",
    "shopping_df.head()\n"
   ]
  },
  {
   "cell_type": "code",
   "execution_count": 259,
   "metadata": {},
   "outputs": [
    {
     "data": {
      "text/plain": [
       "count    Montana\n",
       "dtype: object"
      ]
     },
     "execution_count": 259,
     "metadata": {},
     "output_type": "execute_result"
    }
   ],
   "source": [
    "#What state has the most purchases? What are the top three states with the most purchases?\n",
    "\n",
    "statecounts = shopping_df[\"Location\"].value_counts()\n",
    "\n",
    "statecounts_df = pd.DataFrame(statecounts)\n",
    "\n",
    "max_state = statecounts_df.idxmax()\n",
    "min_state = statecounts_df.idxmin()\n",
    "max_state\n"
   ]
  },
  {
   "cell_type": "code",
   "execution_count": 249,
   "metadata": {},
   "outputs": [
    {
     "data": {
      "text/plain": [
       "count    96\n",
       "dtype: int64"
      ]
     },
     "execution_count": 249,
     "metadata": {},
     "output_type": "execute_result"
    }
   ],
   "source": [
    "#State with the most purchases\n",
    "statecounts_df.max()"
   ]
  },
  {
   "cell_type": "code",
   "execution_count": 261,
   "metadata": {},
   "outputs": [
    {
     "data": {
      "text/plain": [
       "Location\n",
       "Montana       96\n",
       "California    95\n",
       "Idaho         93\n",
       "Name: count, dtype: int64"
      ]
     },
     "execution_count": 261,
     "metadata": {},
     "output_type": "execute_result"
    }
   ],
   "source": [
    "#The top three states with the most purchases\n",
    "statecounts.head(3)"
   ]
  },
  {
   "cell_type": "code",
   "execution_count": 268,
   "metadata": {},
   "outputs": [
    {
     "data": {
      "image/png": "[encoded data removed]",
      "text/plain": [
       "<Figure size 640x480 with 1 Axes>"
      ]
     },
     "metadata": {},
     "output_type": "display_data"
    }
   ],
   "source": [
    "#Bar Graph\n",
    "state_purchases = {'Montana':96,'California':95, 'Idaho':93}\n",
    "\n",
    "states = list(state_purchases.keys())\n",
    "purchases = list(state_purchases.values())\n",
    "\n",
    "plt.bar(states, purchases, color ='pink', \n",
    "        width = 0.4)\n",
    "\n",
    "plt.title('Top 3 States Purchase Amounts')\n",
    "plt.xlabel('State Name')\n",
    "plt.ylabel('Purchases')\n",
    "\n",
    "plt.savefig('top_three_bar')\n",
    "plt.show()"
   ]
  },
  {
   "cell_type": "code",
   "execution_count": 267,
   "metadata": {},
   "outputs": [
    {
     "data": {
      "image/png": "[encoded data removed]",
      "text/plain": [
       "<Figure size 640x480 with 1 Axes>"
      ]
     },
     "metadata": {},
     "output_type": "display_data"
    }
   ],
   "source": [
    "#Pie Chart\n",
    "y = np.array([96, 95, 93])\n",
    "mylabels = [\"Montana\", \"California\", \"Idaho\"]\n",
    "mcolors = [\"pink\",\"lavender\",\"lightblue\"]\n",
    "myexplode = [0.2, 0, 0]\n",
    "\n",
    "plt.pie(y, labels = mylabels, explode = myexplode, colors = mcolors)\n",
    "\n",
    "plt.savefig('top_three_pie.png')\n",
    "plt.show()"
   ]
  },
  {
   "cell_type": "code",
   "execution_count": 254,
   "metadata": {},
   "outputs": [
    {
     "name": "stdout",
     "output_type": "stream",
     "text": [
      "TtestResult(statistic=39.575497001186925, pvalue=0.000637869087223744, df=2)\n"
     ]
    }
   ],
   "source": [
    "#t-test top three states\n",
    "population_mean = shopping_df['Purchase Amount (USD)'].mean()\n",
    "\n",
    "top_three = statecounts.head(3)\n",
    "topmean = top_three.mean()\n",
    "topmean\n",
    "\n",
    "ttest_statespurchases = stats.stats.ttest_1samp(top_three, population_mean)\n",
    "print(ttest_statespurchases)"
   ]
  },
  {
   "cell_type": "code",
   "execution_count": 255,
   "metadata": {},
   "outputs": [
    {
     "name": "stdout",
     "output_type": "stream",
     "text": [
      "What Montana State Buys\n",
      "{'Shirt': 4, 'Sweater': 7, 'Jewelry': 2, 'Socks': 6, 'Hat': 2, 'Sandals': 4, 'Pants': 4, 'T-shirt': 4, 'Boots': 4, 'Coat': 8, 'Shoes': 2, 'Sunglasses': 2, 'Belt': 4, 'Handbag': 6, 'Jeans': 6, 'Backpack': 5, 'Dress': 3, 'Scarf': 3, 'Shorts': 4, 'Skirt': 2, 'Gloves': 4, 'Sneakers': 2, 'Blouse': 2, 'Hoodie': 3, 'Jacket': 3}\n",
      "What Kansas State Buys\n",
      "{'Jacket': 3, 'Sandals': 6, 'Hoodie': 2, 'Jewelry': 5, 'Blouse': 6, 'Sunglasses': 3, 'Socks': 3, 'Pants': 3, 'Sneakers': 3, 'T-shirt': 4, 'Shorts': 3, 'Gloves': 1, 'Boots': 5, 'Shirt': 3, 'Coat': 3, 'Dress': 2, 'Belt': 2, 'Hat': 3, 'Scarf': 2, 'Backpack': 1}\n",
      "Montana buys more than Kansas\n"
     ]
    }
   ],
   "source": [
    "#compariosn of max and min\n",
    "grouped_states = shopping_df.groupby('Location')\n",
    "max_group = grouped_states.get_group(max_state[\"count\"])\n",
    "min_group = grouped_states.get_group(min_state[\"count\"])\n",
    "\n",
    "max_items = {}\n",
    "min_items = {}\n",
    "\n",
    "for item in max_group[\"Item Purchased\"]:\n",
    "    if item not in max_items:\n",
    "        max_items[item] = 0\n",
    "    max_items[item] += 1\n",
    "\n",
    "for item in min_group[\"Item Purchased\"]:\n",
    "    if item not in min_items:\n",
    "        min_items[item] = 0\n",
    "    min_items[item] += 1\n",
    "\n",
    "print(\"What \"+max_state[\"count\"]+\" State Buys\")\n",
    "print(max_items)\n",
    "\n",
    "print(\"What \"+min_state[\"count\"]+\" State Buys\")\n",
    "print(min_items)\n",
    "\n",
    "max_itnum = len(max_items)\n",
    "min_itnum = len(min_items)\n",
    "\n",
    "if max_itnum > min_itnum:\n",
    "    print(max_state[\"count\"] + \" buys more than \" + min_state[\"count\"])\n",
    "if max_itnum == min_itnum:\n",
    "    print(min_state[\"count\"] + \" buys the same as \" + max_state[\"count\"])\n",
    "if min_itnum > max_itnum:\n",
    "    print(min_state[\"count\"] + \" buys the same as \" + max_state[\"count\"])"
   ]
  },
  {
   "cell_type": "code",
   "execution_count": 256,
   "metadata": {},
   "outputs": [
    {
     "name": "stdout",
     "output_type": "stream",
     "text": [
      "Montana Seems to spend more on Coat while \n",
      "Kansas spends more on Sandals\n"
     ]
    }
   ],
   "source": [
    "max_to_df = pd.DataFrame.from_dict(max_items, orient='index')\n",
    "max_item_bought = max_to_df.idxmax()\n",
    "\n",
    "min_to_df = pd.DataFrame.from_dict(min_items, orient='index')\n",
    "min_item_bought = min_to_df.idxmax()\n",
    "\n",
    "print(max_state[\"count\"] +\" Seems to spend more on \" + max_item_bought[0] +\" while \")\n",
    "print(min_state[\"count\"] + \" spends more on \" + min_item_bought[0])"
   ]
  },
  {
   "cell_type": "code",
   "execution_count": 269,
   "metadata": {},
   "outputs": [
    {
     "data": {
      "image/png": "[encoded data removed]",
      "text/plain": [
       "<Figure size 640x480 with 1 Axes>"
      ]
     },
     "metadata": {},
     "output_type": "display_data"
    }
   ],
   "source": [
    "item_max_graph = {max_items[max_item_bought[0]] : max_state[\"count\"] , min_items[max_item_bought[0]] : min_state[\"count\"]}\n",
    "\n",
    "max_keys = list(item_max_graph.keys())\n",
    "max_vals = list(item_max_graph.values())\n",
    "\n",
    "plt.bar(max_vals, max_keys, color ='pink', \n",
    "        width = 0.2)\n",
    "\n",
    "plt.title(\"Montana Coats v Kansas Coats\")\n",
    "plt.xlabel('State Name')\n",
    "plt.ylabel('Amount of Purchases')\n",
    "\n",
    "plt.savefig('coats origin_bar_graph')\n",
    "\n",
    "plt.show()\n"
   ]
  },
  {
   "cell_type": "code",
   "execution_count": 270,
   "metadata": {},
   "outputs": [
    {
     "data": {
      "image/png": "[encoded data removed]",
      "text/plain": [
       "<Figure size 640x480 with 1 Axes>"
      ]
     },
     "metadata": {},
     "output_type": "display_data"
    }
   ],
   "source": [
    "item_min_graph = {max_items[min_item_bought[0]] : max_state[\"count\"] , min_items[min_item_bought[0]] : min_state[\"count\"]}\n",
    "\n",
    "min_keys = list(item_min_graph.keys())\n",
    "min_vals = list(item_min_graph.values())\n",
    "\n",
    "plt.bar(min_vals, min_keys, color ='pink', \n",
    "        width = 0.2)\n",
    "\n",
    "plt.title(\"Montana Sandals v Kansas Sandals\")\n",
    "plt.xlabel('State Name')\n",
    "plt.ylabel('Amount of Purchases')\n",
    "\n",
    "plt.savefig('sandals origin_bar_graph')\n",
    "plt.show()"
   ]
  },
  {
   "cell_type": "code",
   "execution_count": null,
   "metadata": {},
   "outputs": [],
   "source": []
  }
 ],
 "metadata": {
  "kernelspec": {
   "display_name": "Python 3",
   "language": "python",
   "name": "python3"
  },
  "language_info": {
   "codemirror_mode": {
    "name": "ipython",
    "version": 3
   },
   "file_extension": ".py",
   "mimetype": "text/x-python",
   "name": "python",
   "nbconvert_exporter": "python",
   "pygments_lexer": "ipython3",
   "version": "3.11.5"
  },
  "orig_nbformat": 4
 },
 "nbformat": 4,
 "nbformat_minor": 2
}
